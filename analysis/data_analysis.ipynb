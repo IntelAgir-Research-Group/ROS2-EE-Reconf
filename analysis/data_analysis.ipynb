{
 "cells": [
  {
   "cell_type": "markdown",
   "id": "88ed7b47",
   "metadata": {},
   "source": [
    "# Import Dependencies"
   ]
  },
  {
   "cell_type": "code",
   "execution_count": 85,
   "id": "62798684",
   "metadata": {},
   "outputs": [],
   "source": [
    "import sys\n",
    "import matplotlib.pyplot as plt\n",
    "import seaborn as sns\n",
    "import pandas as pd\n",
    "import glob\n",
    "import os\n",
    "import numpy as np\n",
    "from scipy.stats import boxcox"
   ]
  },
  {
   "cell_type": "markdown",
   "id": "3ea87c81",
   "metadata": {},
   "source": [
    "# Class: LoadData\n",
    "\n",
    "Used for loading data after the `run_table`."
   ]
  },
  {
   "cell_type": "code",
   "execution_count": 86,
   "id": "bccfb213",
   "metadata": {},
   "outputs": [],
   "source": [
    "class LoadData:\n",
    "\n",
    "    __num_rows = 0\n",
    "    __s_folder = None\n",
    "    __algo = None\n",
    "\n",
    "    def __init__(self, num_rows: int, s_folder: str, algo: str):\n",
    "        self.__num_rows = num_rows\n",
    "        self.__s_folder = s_folder\n",
    "        self.__algo = algo\n",
    "\n",
    "    def load_run_table(self):\n",
    "        try:\n",
    "            run_table = pd.read_csv(f'{self.__s_folder}/run_table.csv', nrows=self.__num_rows)\n",
    "            return run_table\n",
    "        except:\n",
    "            return None\n",
    "        \n",
    "    def log_transform(self, df, label):\n",
    "        return df[label].apply(lambda x: np.log(x + 1) if x > 0 else np.nan)\n",
    "\n",
    "    def boxcox_transform(self, df, label):\n",
    "        return boxcox(df[label].dropna() + 1)\n",
    "    \n",
    "    def filter_df(self, df, label, value):\n",
    "        return df[df[label] == value]\n",
    "    \n",
    "    def group_df_by(self, df, key, outliers):\n",
    "        grouped_df = df.groupby(key)\n",
    "        if not outliers:\n",
    "            return grouped_df\n",
    "        else:\n",
    "            cleaned_df = grouped_df.apply(self.remove_outliers, column_name='avg_energy_pct')\n",
    "            cleaned_df = cleaned_df.rename(columns={key: f'new_{key}'})\n",
    "            #cleaned_df.reset_index()\n",
    "            regrouped_df = cleaned_df.groupby(key)\n",
    "            return regrouped_df\n",
    "            \n",
    "    def load_nav2_success(self, component, outliers: bool):\n",
    "        df = self.load_run_table()\n",
    "        runs_data = {}\n",
    "        energy_files = {}\n",
    "        sum_success_df = {}\n",
    "        for index, row in df.iterrows():\n",
    "            run_id = row['__run_id']\n",
    "            if row['__done'] == 'TODO':\n",
    "                continue\n",
    "            folder_path = f\"{self.__s_folder}/{run_id}\"\n",
    "            file_path = os.path.join(folder_path, 'nav2_performance.csv')\n",
    "            if file_path:\n",
    "                try:\n",
    "                    nav2_df = pd.read_csv(file_path)\n",
    "                    nav2_df['success'] = pd.to_numeric(nav2_df['success'])\n",
    "                    success = nav2_df['success'].sum()\n",
    "                    runs_data[run_id] = success\n",
    "                except Exception as e:\n",
    "                    print(f\"Error processing file for run_id {run_id}: {e}\")\n",
    "                    runs_data[run_id] = 0\n",
    "\n",
    "        sum_success_df = pd.DataFrame(list(runs_data.items()), columns=['__run_id', 'success'])\n",
    "        merged_df = df.merge(sum_success_df, on='__run_id')\n",
    "\n",
    "        clean_df = merged_df.dropna()\n",
    "\n",
    "        return clean_df\n",
    "    \n",
    "    def load_nav2_time(self, component, outliers: bool):\n",
    "        df = self.load_run_table()\n",
    "        runs_data = {}\n",
    "        nav_time_df = {}\n",
    "        for index, row in df.iterrows():\n",
    "            run_id = row['__run_id']\n",
    "            if row['__done'] == 'TODO':\n",
    "                continue\n",
    "            folder_path = f\"{self.__s_folder}/{run_id}\"\n",
    "            file_path = os.path.join(folder_path, 'nav2_performance.csv')\n",
    "            if file_path:\n",
    "                try:\n",
    "                    nav2_df = pd.read_csv(file_path)\n",
    "                    nav2_df['navigation_time'] = pd.to_numeric(nav2_df['navigation_time'], errors='coerce')\n",
    "                    nav_time = nav2_df['navigation_time'].sum()\n",
    "                    if nav_time == 0:\n",
    "                        nav_time = 100\n",
    "                    runs_data[run_id] = nav_time\n",
    "                except Exception as e:\n",
    "                    # print(f\"Error processing file for run_id {run_id}: {e}\")\n",
    "                    runs_data[run_id] = 100\n",
    "\n",
    "        nav_time_df = pd.DataFrame(list(runs_data.items()), columns=['__run_id', 'navigation_time'])\n",
    "        merged_df = df.merge(nav_time_df, on='__run_id')\n",
    "\n",
    "        clean_df = merged_df.dropna()\n",
    "\n",
    "        return clean_df\n",
    "\n",
    "    def load_power(self, component, transform: bool, outliers: bool):\n",
    "        df = self.load_run_table()\n",
    "        runs_data = {}\n",
    "        energy_files = {}\n",
    "        avg_energy_df = {}\n",
    "        for index, row in df.iterrows():\n",
    "            run_id = row['__run_id']\n",
    "            folder_path = f\"{self.__s_folder}/{run_id}\"\n",
    "            energy_files = glob.glob(os.path.join(folder_path, f'pj_{component}_server.csv-*.csv'))\n",
    "            if energy_files:\n",
    "                try:\n",
    "                    energy_df = pd.read_csv(energy_files[0])\n",
    "                    energy_df['CPU Power'] = pd.to_numeric(energy_df['CPU Power'], errors='coerce')\n",
    "                    if transform:\n",
    "                        energy_df['CPU Power'], _ = self.boxcox_transform(energy_df, 'CPU Power')\n",
    "                    filtered_df = energy_df[energy_df['CPU Power'] > 0.001]\n",
    "                    avg_energy_pct = filtered_df['CPU Power'].mean()\n",
    "                    \n",
    "                    runs_data[run_id] = avg_energy_pct\n",
    "                except Exception as e:\n",
    "                    print(f\"Error processing file for run_id {run_id}: {e}\")\n",
    "\n",
    "        avg_energy_df = pd.DataFrame(list(runs_data.items()), columns=['__run_id', 'avg_energy_pct'])\n",
    "        merged_df = df.merge(avg_energy_df, on='__run_id')\n",
    "\n",
    "        clean_df = merged_df.dropna()\n",
    "\n",
    "        return clean_df\n",
    "\n",
    "    def remove_outliers(self, group, column_name):\n",
    "        Q1 = group[column_name].quantile(0.25)\n",
    "        Q3 = group[column_name].quantile(0.75)\n",
    "        \n",
    "        IQR = Q3 - Q1\n",
    "        \n",
    "        lower_bound = Q1 - 1.5 * IQR\n",
    "        upper_bound = Q3 + 1.5 * IQR\n",
    "        return group[(group[column_name] >= lower_bound) & (group[column_name] <= upper_bound)]\n",
    "\n",
    "    def load_all_energy():\n",
    "        pass\n",
    "\n",
    "    def load_energy_mean():\n",
    "        pass\n",
    "\n",
    "    def load_energy_total():\n",
    "        pass\n",
    "\n",
    "    def load_all_cpu():\n",
    "        pass\n",
    "\n",
    "    def load_all_memory():\n",
    "        pass"
   ]
  },
  {
   "cell_type": "markdown",
   "id": "d9d0cd3e",
   "metadata": {},
   "source": [
    "# Setting Arguments\n",
    "\n",
    "Like source and destination folders."
   ]
  },
  {
   "cell_type": "code",
   "execution_count": 87,
   "id": "2861a340",
   "metadata": {},
   "outputs": [],
   "source": [
    "# Paths\n",
    "prefix = \"data/greenros_reconf_world_small_full/\"\n",
    "s_folder = \"data/greenros_reconf_world_small_full/\"\n",
    "std_folder = s_folder\n",
    "d_folder = \"./graphs/\"\n",
    "\n",
    "# Ensure the output folder exists\n",
    "os.makedirs(d_folder, exist_ok=True)"
   ]
  },
  {
   "cell_type": "markdown",
   "id": "fa8a7ad8",
   "metadata": {},
   "source": [
    "# Loading Data\n",
    "\n",
    "Loads all the CSVs."
   ]
  },
  {
   "cell_type": "code",
   "execution_count": 88,
   "id": "6a6021df",
   "metadata": {},
   "outputs": [],
   "source": [
    "\n",
    "# Load Runtable\n",
    "load = LoadData(num_rows=175, s_folder=s_folder, algo=\"all\")"
   ]
  },
  {
   "cell_type": "markdown",
   "id": "9bb2fad3",
   "metadata": {},
   "source": [
    "# Plotting Methods\n",
    "\n",
    "All the methods used for plotting the data."
   ]
  },
  {
   "cell_type": "code",
   "execution_count": 89,
   "id": "cff01832",
   "metadata": {},
   "outputs": [],
   "source": [
    "# Boxplot for Power Consumption\n",
    "def gen_power_boxplot(component=\"controller\", group_by=\"configuration\", filter=None, transform=False, outliers=False ):\n",
    "    data = load.load_power(component, transform, outliers)\n",
    "    \n",
    "    if filter:\n",
    "        key, value = filter\n",
    "        data = load.filter_df(data, key, value)\n",
    "\n",
    "    grouped = data.groupby(group_by)\n",
    "\n",
    "    print(data.head())\n",
    "\n",
    "    boxplot_data = []\n",
    "    labels = []\n",
    "\n",
    "    for group_name, group_data in grouped:\n",
    "        boxplot_data.append(group_data[\"avg_energy_pct\"].values)\n",
    "        labels.append(group_name)\n",
    "\n",
    "    # Plot using Seaborn\n",
    "    plt.figure(figsize=(4, 4))\n",
    "    sns.boxplot(data=boxplot_data)\n",
    "    plt.xticks(ticks=range(len(labels)), labels=labels, rotation=90)\n",
    "    plt.ylabel(\"Power (W)\")\n",
    "    plt.xlabel(group_by.capitalize())\n",
    "    plt.tight_layout()\n",
    "\n",
    "    output_file = os.path.join(d_folder, f\"boxplot_{component}_{group_by}_power.pdf\")\n",
    "    plt.savefig(output_file, dpi=300)\n",
    "    plt.close()\n",
    "    print(f\"Saved: {output_file}\")"
   ]
  },
  {
   "cell_type": "code",
   "execution_count": 79,
   "id": "19c58cf7",
   "metadata": {},
   "outputs": [],
   "source": [
    "# Boxplot for Nav2 Navigation Time\n",
    "def gen_nav_time_boxplot(component=\"controller\", group_by=\"configuration\", filter=None, outliers=False ):\n",
    "    data = load.load_nav2_time(component, outliers)\n",
    "    \n",
    "    if filter:\n",
    "        key, value = filter\n",
    "        data = load.filter_df(data, key, value)\n",
    "\n",
    "    grouped = data.groupby(group_by)\n",
    "\n",
    "    print(data.head())\n",
    "\n",
    "    boxplot_data = []\n",
    "    labels = []\n",
    "\n",
    "    for group_name, group_data in grouped:\n",
    "        boxplot_data.append(group_data[\"navigation_time\"].values)\n",
    "        labels.append(group_name)\n",
    "\n",
    "    # Plot using Seaborn\n",
    "    plt.figure(figsize=(4, 4))\n",
    "    sns.boxplot(data=boxplot_data)\n",
    "    plt.xticks(ticks=range(len(labels)), labels=labels, rotation=90)\n",
    "    plt.ylabel(\"Navigation Time (s)\")\n",
    "    plt.xlabel(group_by.capitalize())\n",
    "    plt.tight_layout()\n",
    "\n",
    "    output_file = os.path.join(d_folder, f\"boxplot_{component}_{group_by}_nav_time.pdf\")\n",
    "    plt.savefig(output_file, dpi=300)\n",
    "    plt.close()\n",
    "    print(f\"Saved: {output_file}\")"
   ]
  },
  {
   "cell_type": "code",
   "execution_count": 58,
   "id": "93ff7b34",
   "metadata": {},
   "outputs": [],
   "source": [
    "# Boxplot for Nav2 Success Rate\n",
    "def gen_nav2_success_barplot(component=\"controller\", group_by=\"configuration\", filter=None, outliers=False):\n",
    "    data = load.load_nav2_success(component, outliers)\n",
    "    \n",
    "    if filter:\n",
    "        key, value = filter\n",
    "        data = load.filter_df(data, key, value)\n",
    "\n",
    "    # Group and sum success counts\n",
    "    grouped = data.groupby(group_by)[\"success\"].sum().reset_index()\n",
    "\n",
    "    print(grouped.head())\n",
    "\n",
    "    # Plot using Seaborn\n",
    "    plt.figure(figsize=(5, 4))\n",
    "    sns.barplot(x=group_by, y=\"success\", data=grouped)\n",
    "    plt.xticks(rotation=90)\n",
    "    plt.ylabel(\"Total Success\")\n",
    "    plt.xlabel(group_by.capitalize())\n",
    "    plt.tight_layout()\n",
    "\n",
    "    output_file = os.path.join(d_folder, f\"barplot_{component}_{group_by}_success.pdf\")\n",
    "    plt.savefig(output_file, dpi=300)\n",
    "    plt.close()\n",
    "    print(f\"Saved: {output_file}\")\n"
   ]
  },
  {
   "cell_type": "code",
   "execution_count": null,
   "id": "ac439f0a",
   "metadata": {},
   "outputs": [],
   "source": [
    "# Boxplot for Nav2 Distance Traveled"
   ]
  },
  {
   "cell_type": "code",
   "execution_count": null,
   "id": "16add4d3",
   "metadata": {},
   "outputs": [],
   "source": [
    "# Boxplot for Nav2 Recoveries"
   ]
  },
  {
   "cell_type": "markdown",
   "id": "427edc24",
   "metadata": {},
   "source": [
    "# Controller"
   ]
  },
  {
   "cell_type": "code",
   "execution_count": 92,
   "id": "351655d2",
   "metadata": {},
   "outputs": [],
   "source": [
    "component = \"planner\""
   ]
  },
  {
   "cell_type": "code",
   "execution_count": 93,
   "id": "1f347f10",
   "metadata": {},
   "outputs": [
    {
     "name": "stdout",
     "output_type": "stream",
     "text": [
      "  __run_id __done  round  configuration  position_goal  number_obstacles  \\\n",
      "1    run_1   DONE      0              0              2                 2   \n",
      "3    run_3   DONE      0              1              2                 2   \n",
      "5    run_5   DONE      0              2              2                 2   \n",
      "7    run_7   DONE      0              3              2                 2   \n",
      "9    run_9   DONE      0              4              2                 2   \n",
      "\n",
      "   avg_energy_pct  \n",
      "1        0.001362  \n",
      "3        0.001551  \n",
      "5        0.001852  \n",
      "7        0.001541  \n",
      "9        0.001750  \n",
      "Saved: ./graphs/boxplot_planner_configuration_power.pdf\n"
     ]
    }
   ],
   "source": [
    "gen_power_boxplot(component, group_by=\"configuration\", filter = (\"number_obstacles\", 2), transform=False, outliers=False)"
   ]
  },
  {
   "cell_type": "code",
   "execution_count": 59,
   "id": "4d836ff5",
   "metadata": {},
   "outputs": [
    {
     "name": "stdout",
     "output_type": "stream",
     "text": [
      "Error processing file for run_id run_16: [Errno 2] No such file or directory: 'data/greenros_reconf_world_small_full//run_16/nav2_performance.csv'\n",
      "Error processing file for run_id run_22: [Errno 2] No such file or directory: 'data/greenros_reconf_world_small_full//run_22/nav2_performance.csv'\n",
      "Error processing file for run_id run_40: [Errno 2] No such file or directory: 'data/greenros_reconf_world_small_full//run_40/nav2_performance.csv'\n",
      "Error processing file for run_id run_106: [Errno 2] No such file or directory: 'data/greenros_reconf_world_small_full//run_106/nav2_performance.csv'\n",
      "Error processing file for run_id run_138: [Errno 2] No such file or directory: 'data/greenros_reconf_world_small_full//run_138/nav2_performance.csv'\n",
      "   configuration  success\n",
      "0              0        7\n",
      "1              1        8\n",
      "2              2        6\n",
      "3              3        8\n",
      "4              4        8\n",
      "Saved: ./graphs/barplot_planner_configuration_success.pdf\n"
     ]
    }
   ],
   "source": [
    "gen_nav2_success_barplot(component, group_by=\"configuration\", filter = None, outliers=False)"
   ]
  },
  {
   "cell_type": "code",
   "execution_count": 84,
   "id": "f3959aa3",
   "metadata": {},
   "outputs": [
    {
     "name": "stdout",
     "output_type": "stream",
     "text": [
      "Error processing file for run_id run_16: [Errno 2] No such file or directory: 'data/greenros_reconf_world_small_full//run_16/nav2_performance.csv'\n",
      "Error processing file for run_id run_22: [Errno 2] No such file or directory: 'data/greenros_reconf_world_small_full//run_22/nav2_performance.csv'\n",
      "Error processing file for run_id run_40: [Errno 2] No such file or directory: 'data/greenros_reconf_world_small_full//run_40/nav2_performance.csv'\n",
      "Error processing file for run_id run_106: [Errno 2] No such file or directory: 'data/greenros_reconf_world_small_full//run_106/nav2_performance.csv'\n",
      "Error processing file for run_id run_138: [Errno 2] No such file or directory: 'data/greenros_reconf_world_small_full//run_138/nav2_performance.csv'\n",
      "   configuration  success\n",
      "0              0        7\n",
      "1              1        8\n",
      "2              2        6\n",
      "3              3        8\n",
      "4              4        8\n",
      "Saved: ./graphs/barplot_planner_configuration_success.pdf\n"
     ]
    }
   ],
   "source": [
    "gen_nav2_success_barplot(component, group_by=\"configuration\", filter = None, outliers=False)"
   ]
  },
  {
   "cell_type": "code",
   "execution_count": 83,
   "id": "cee7f246",
   "metadata": {},
   "outputs": [
    {
     "name": "stdout",
     "output_type": "stream",
     "text": [
      "  __run_id __done  round  configuration  position_goal  number_obstacles  \\\n",
      "0    run_0   DONE      0              0              2                 0   \n",
      "1    run_1   DONE      0              0              2                 2   \n",
      "2    run_2   DONE      0              1              2                 0   \n",
      "3    run_3   DONE      0              1              2                 2   \n",
      "4    run_4   DONE      0              2              2                 0   \n",
      "\n",
      "   navigation_time  \n",
      "0               46  \n",
      "1               39  \n",
      "2               50  \n",
      "3               52  \n",
      "4               35  \n",
      "Saved: ./graphs/boxplot_planner_configuration_nav_time.pdf\n"
     ]
    }
   ],
   "source": [
    "gen_nav_time_boxplot(component, group_by=\"configuration\", filter = None, outliers=False)"
   ]
  }
 ],
 "metadata": {
  "kernelspec": {
   "display_name": ".venv",
   "language": "python",
   "name": "python3"
  },
  "language_info": {
   "codemirror_mode": {
    "name": "ipython",
    "version": 3
   },
   "file_extension": ".py",
   "mimetype": "text/x-python",
   "name": "python",
   "nbconvert_exporter": "python",
   "pygments_lexer": "ipython3",
   "version": "3.13.2"
  }
 },
 "nbformat": 4,
 "nbformat_minor": 5
}
